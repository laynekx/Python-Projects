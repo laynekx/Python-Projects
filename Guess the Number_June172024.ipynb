{
 "cells": [
  {
   "cell_type": "code",
   "execution_count": 33,
   "id": "f8ddcb3e-9a82-4a33-9b06-712628148d91",
   "metadata": {},
   "outputs": [
    {
     "name": "stdout",
     "output_type": "stream",
     "text": [
      "Welcome to the Number Guessing Game!\n",
      "I'm thinking of a number between 1 and 100.\n"
     ]
    },
    {
     "name": "stdin",
     "output_type": "stream",
     "text": [
      "Choose a difficulty. Type 'easy' or 'hard': \n",
      " hard\n"
     ]
    },
    {
     "name": "stdout",
     "output_type": "stream",
     "text": [
      "You have 5 attempts remaining to guess the number.\n"
     ]
    },
    {
     "name": "stdin",
     "output_type": "stream",
     "text": [
      "Make a guess:  \n"
     ]
    },
    {
     "name": "stdout",
     "output_type": "stream",
     "text": [
      "Invalid input\n"
     ]
    },
    {
     "name": "stdin",
     "output_type": "stream",
     "text": [
      "Make a guess:  100\n"
     ]
    },
    {
     "name": "stdout",
     "output_type": "stream",
     "text": [
      "Too high!\n",
      "You have 4 attempts remaining to guess the number.\n"
     ]
    },
    {
     "name": "stdin",
     "output_type": "stream",
     "text": [
      "Make a guess:  30\n"
     ]
    },
    {
     "name": "stdout",
     "output_type": "stream",
     "text": [
      "Too high!\n",
      "You have 3 attempts remaining to guess the number.\n"
     ]
    },
    {
     "name": "stdin",
     "output_type": "stream",
     "text": [
      "Make a guess:  50\n"
     ]
    },
    {
     "name": "stdout",
     "output_type": "stream",
     "text": [
      "Too high!\n",
      "You have 2 attempts remaining to guess the number.\n"
     ]
    },
    {
     "name": "stdin",
     "output_type": "stream",
     "text": [
      "Make a guess:  40\n"
     ]
    },
    {
     "name": "stdout",
     "output_type": "stream",
     "text": [
      "Too high!\n",
      "You have 1 attempts remaining to guess the number.\n"
     ]
    },
    {
     "name": "stdin",
     "output_type": "stream",
     "text": [
      "Make a guess:  46\n"
     ]
    },
    {
     "name": "stdout",
     "output_type": "stream",
     "text": [
      "Too high!\n",
      "You have 0 attempts remaining to guess the number.\n",
      "You've run out of guesses, you lose.\n"
     ]
    }
   ],
   "source": [
    "#from art import logo\n",
    "import random\n",
    "#Choose a number between 1 and 100\n",
    "answer = random.randint(1,100)\n",
    "#Print introduction\n",
    "#print(logo)\n",
    "print('Welcome to the Number Guessing Game!')\n",
    "print(\"I'm thinking of a number between 1 and 100.\")\n",
    "#Debug: print(f\"Pssst, the correct answer is {answer}\")\n",
    "\n",
    "#Guess a number, ensuring type and range\n",
    "def make_guess():\n",
    "    while True:\n",
    "        choice = input('Make a guess: ')\n",
    "        if not choice.isdigit():\n",
    "            print('Invalid input')\n",
    "        elif int(choice) not in range(1,101):\n",
    "            print('Input not within the range 1 to 100.')\n",
    "        else:\n",
    "            return int(choice)\n",
    "\n",
    "#Choose difficulty\n",
    "lives = 0\n",
    "while True:\n",
    "    level = input(\"Choose a difficulty. Type 'easy' or 'hard': \\n\").lower()\n",
    "    if level == 'easy':\n",
    "        lives = 10\n",
    "        break\n",
    "    elif level == 'hard':\n",
    "        lives = 5\n",
    "        break\n",
    "    else:\n",
    "        print('Invalid input')\n",
    "\n",
    "print(f'You have {lives} attempts remaining to guess the number.')\n",
    "#Guess the number: result and impact on lives\n",
    "game_on = True\n",
    "\n",
    "while game_on:\n",
    "    guess = make_guess()\n",
    "    if guess > answer:\n",
    "        print('Too high!')\n",
    "        lives -= 1\n",
    "        print(f'You have {lives} attempts remaining to guess the number.')\n",
    "    elif guess < answer:\n",
    "        print('Too low!')\n",
    "        lives -= 1\n",
    "        print(f'You have {lives} attempts remaining to guess the number.')\n",
    "    elif guess == answer:\n",
    "        print(f'You got it! The answer is {answer}.')\n",
    "        game_on = False\n",
    "    if lives == 0:\n",
    "        print(\"You've run out of guesses, you lose.\")\n",
    "        game_on = False"
   ]
  },
  {
   "cell_type": "code",
   "execution_count": null,
   "id": "b007e827-0ded-4f44-8242-a07ba1595453",
   "metadata": {},
   "outputs": [],
   "source": []
  }
 ],
 "metadata": {
  "kernelspec": {
   "display_name": "Python 3 (ipykernel)",
   "language": "python",
   "name": "python3"
  },
  "language_info": {
   "codemirror_mode": {
    "name": "ipython",
    "version": 3
   },
   "file_extension": ".py",
   "mimetype": "text/x-python",
   "name": "python",
   "nbconvert_exporter": "python",
   "pygments_lexer": "ipython3",
   "version": "3.11.7"
  }
 },
 "nbformat": 4,
 "nbformat_minor": 5
}
